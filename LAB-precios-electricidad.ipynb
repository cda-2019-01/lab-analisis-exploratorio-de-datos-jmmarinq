{
 "cells": [
  {
   "cell_type": "markdown",
   "metadata": {},
   "source": [
    "Evolución de los Precios de la Electricidad\n",
    "==="
   ]
  },
  {
   "cell_type": "markdown",
   "metadata": {},
   "source": [
    "# Instrucciones"
   ]
  },
  {
   "cell_type": "markdown",
   "metadata": {},
   "source": [
    "En el archivo `precios.zip`  se encuentran los archivos `Precio_Bolsa_Nacional_($kwh)_ano.xls` en formato de Microsoft Excel, los cuales contienen los precios históricos horarios de la electricidad para el mercado eléctrico Colombiano entre los años 1995 y 2017 en COL-PESOS/kWh. A partir de la información suministrada realice las siguientes actividades. "
   ]
  },
  {
   "cell_type": "markdown",
   "metadata": {},
   "source": [
    "**1.--** Lea los archivos y cree una tabla única concatenando la información para cada uno de los años. Debe transformar la tabla de tal forma que quede con las columnas `Fecha`, `Hora` y `Precio` (únicamente tres columnas)."
   ]
  },
  {
   "cell_type": "code",
   "execution_count": 5,
   "metadata": {},
   "outputs": [
    {
     "data": {
      "text/plain": [
       "'C:\\\\Users\\\\JuanManuel\\\\Ciencias\\\\lab-analisis-exploratorio-de-datos-jmmarinq'"
      ]
     },
     "execution_count": 5,
     "metadata": {},
     "output_type": "execute_result"
    }
   ],
   "source": [
    "pwd"
   ]
  },
  {
   "cell_type": "code",
   "execution_count": 7,
   "metadata": {},
   "outputs": [],
   "source": [
    "#Importar las librerias\n",
    "import matplotlib.pyplot as plt\n",
    "import matplotlib as mpl\n",
    "import pandas as pd\n",
    "import numpy as np\n",
    "import datetime as dt\n",
    "import glob\n",
    "%matplotlib inline\n"
   ]
  },
  {
   "cell_type": "code",
   "execution_count": 8,
   "metadata": {},
   "outputs": [],
   "source": [
    "#Definir la funcion Leer Precios definida en Clases\n",
    "def LeerPrecios(filename):\n",
    "    for x in range(10):\n",
    "        Datos = pd.read_excel(filename,skiprows = x ,usecols = list(range(25)))\n",
    "        if Datos.iloc[0,0] == 'Fecha':\n",
    "            Datos = pd.read_excel(filename,skiprows = x+1, usecols = list(range(25)))\n",
    "            break\n",
    "    return Datos"
   ]
  },
  {
   "cell_type": "code",
   "execution_count": 9,
   "metadata": {},
   "outputs": [
    {
     "data": {
      "text/plain": [
       "['Precio_Bolsa_Nacional_($kwh)_1995.xlsx',\n",
       " 'Precio_Bolsa_Nacional_($kwh)_1996.xlsx',\n",
       " 'Precio_Bolsa_Nacional_($kwh)_1997.xlsx',\n",
       " 'Precio_Bolsa_Nacional_($kwh)_1998.xlsx',\n",
       " 'Precio_Bolsa_Nacional_($kwh)_1999.xlsx',\n",
       " 'Precio_Bolsa_Nacional_($kwh)_2000.xlsx',\n",
       " 'Precio_Bolsa_Nacional_($kwh)_2001.xlsx',\n",
       " 'Precio_Bolsa_Nacional_($kwh)_2002.xlsx',\n",
       " 'Precio_Bolsa_Nacional_($kwh)_2003.xlsx',\n",
       " 'Precio_Bolsa_Nacional_($kwh)_2004.xlsx',\n",
       " 'Precio_Bolsa_Nacional_($kwh)_2005.xlsx',\n",
       " 'Precio_Bolsa_Nacional_($kwh)_2006.xlsx',\n",
       " 'Precio_Bolsa_Nacional_($kwh)_2007.xlsx',\n",
       " 'Precio_Bolsa_Nacional_($kwh)_2008.xlsx',\n",
       " 'Precio_Bolsa_Nacional_($kwh)_2009.xlsx',\n",
       " 'Precio_Bolsa_Nacional_($kwh)_2010.xlsx',\n",
       " 'Precio_Bolsa_Nacional_($kwh)_2011.xlsx',\n",
       " 'Precio_Bolsa_Nacional_($kwh)_2012.xlsx',\n",
       " 'Precio_Bolsa_Nacional_($kwh)_2013.xlsx',\n",
       " 'Precio_Bolsa_Nacional_($kwh)_2014.xlsx',\n",
       " 'Precio_Bolsa_Nacional_($kwh)_2015.xlsx',\n",
       " 'Precio_Bolsa_Nacional_($kwh)_2016.xls',\n",
       " 'Precio_Bolsa_Nacional_($kwh)_2017.xls',\n",
       " 'Precio_Bolsa_Nacional_($kwh)_2018.xls']"
      ]
     },
     "execution_count": 9,
     "metadata": {},
     "output_type": "execute_result"
    }
   ],
   "source": [
    "#Hago el vector filenames manualmente ya que mi maquina virtual se averio\n",
    "filenames=['Precio_Bolsa_Nacional_($kwh)_1995.xlsx','Precio_Bolsa_Nacional_($kwh)_1996.xlsx',\n",
    "           'Precio_Bolsa_Nacional_($kwh)_1997.xlsx','Precio_Bolsa_Nacional_($kwh)_1998.xlsx',\n",
    "           'Precio_Bolsa_Nacional_($kwh)_1999.xlsx','Precio_Bolsa_Nacional_($kwh)_2000.xlsx',\n",
    "           'Precio_Bolsa_Nacional_($kwh)_2001.xlsx','Precio_Bolsa_Nacional_($kwh)_2002.xlsx',\n",
    "           'Precio_Bolsa_Nacional_($kwh)_2003.xlsx','Precio_Bolsa_Nacional_($kwh)_2004.xlsx',\n",
    "           'Precio_Bolsa_Nacional_($kwh)_2005.xlsx','Precio_Bolsa_Nacional_($kwh)_2006.xlsx',\n",
    "           'Precio_Bolsa_Nacional_($kwh)_2007.xlsx','Precio_Bolsa_Nacional_($kwh)_2008.xlsx',\n",
    "           'Precio_Bolsa_Nacional_($kwh)_2009.xlsx','Precio_Bolsa_Nacional_($kwh)_2010.xlsx',\n",
    "           'Precio_Bolsa_Nacional_($kwh)_2011.xlsx','Precio_Bolsa_Nacional_($kwh)_2012.xlsx',\n",
    "           'Precio_Bolsa_Nacional_($kwh)_2013.xlsx','Precio_Bolsa_Nacional_($kwh)_2014.xlsx',\n",
    "           'Precio_Bolsa_Nacional_($kwh)_2015.xlsx','Precio_Bolsa_Nacional_($kwh)_2016.xls',\n",
    "           'Precio_Bolsa_Nacional_($kwh)_2017.xls','Precio_Bolsa_Nacional_($kwh)_2018.xls']\n",
    "filenames"
   ]
  },
  {
   "cell_type": "code",
   "execution_count": 10,
   "metadata": {},
   "outputs": [
    {
     "name": "stdout",
     "output_type": "stream",
     "text": [
      "             Fecha Hora      Precio\n",
      "0       1995-07-20    0         NaN\n",
      "1       1995-07-21    0    1.073000\n",
      "2       1995-07-22    0    1.073000\n",
      "3       1995-07-23    0    1.073000\n",
      "4       1995-07-24    0    1.000000\n",
      "5       1995-07-25    0    0.990000\n",
      "6       1995-07-26    0    0.500000\n",
      "7       1995-07-27    0    0.500000\n",
      "8       1995-07-28    0    0.000000\n",
      "9       1995-07-29    0    1.000000\n",
      "10      1995-07-30    0    1.072000\n",
      "11      1995-07-31    0    0.000000\n",
      "12      1995-08-01    0    0.000000\n",
      "13      1995-08-02    0    1.073000\n",
      "14      1995-08-03    0    1.073000\n",
      "15      1995-08-04    0    1.073000\n",
      "16      1995-08-05    0    2.000000\n",
      "17      1995-08-06    0    3.000000\n",
      "18      1995-08-07    0    3.000000\n",
      "19      1995-08-08    0    3.000000\n",
      "20      1995-08-09    0   10.000000\n",
      "21      1995-08-10    0   18.000000\n",
      "22      1995-08-11    0   12.000000\n",
      "23      1995-08-12    0   30.000000\n",
      "24      1995-08-13    0   35.000000\n",
      "25      1995-08-14    0   17.000000\n",
      "26      1995-08-15    0    1.074000\n",
      "27      1995-08-16    0    1.074000\n",
      "28      1995-08-17    0    1.000000\n",
      "29      1995-08-18    0    1.075000\n",
      "...            ...  ...         ...\n",
      "201786  2018-04-06   23  101.061224\n",
      "201787  2018-04-07   23  115.247319\n",
      "201788  2018-04-08   23  104.855346\n",
      "201789  2018-04-09   23   96.150254\n",
      "201790  2018-04-10   23   96.544901\n",
      "201791  2018-04-11   23   95.951640\n",
      "201792  2018-04-12   23  104.050235\n",
      "201793  2018-04-13   23  115.019470\n",
      "201794  2018-04-14   23  112.536146\n",
      "201795  2018-04-15   23  102.413184\n",
      "201796  2018-04-16   23   84.128662\n",
      "201797  2018-04-17   23   82.310629\n",
      "201798  2018-04-18   23  115.397910\n",
      "201799  2018-04-19   23  130.148787\n",
      "201800  2018-04-20   23   73.651514\n",
      "201801  2018-04-21   23   73.040902\n",
      "201802  2018-04-22   23   73.182921\n",
      "201803  2018-04-23   23  117.952904\n",
      "201804  2018-04-24   23  124.376789\n",
      "201805  2018-04-25   23  140.515851\n",
      "201806  2018-04-26   23   72.752131\n",
      "201807  2018-04-27   23   71.669496\n",
      "201808  2018-04-28   23   70.008969\n",
      "201809  2018-04-29   23   70.012686\n",
      "201810  2018-04-30   23   67.645951\n",
      "201811  2018-05-01   23   64.229226\n",
      "201812  2018-05-02   23   67.832816\n",
      "201813  2018-05-03   23   63.710848\n",
      "201814  2018-05-04   23   64.043453\n",
      "201815  2018-05-05   23   75.242918\n",
      "\n",
      "[201816 rows x 3 columns]\n"
     ]
    }
   ],
   "source": [
    "#Consolidar la base\n",
    "Datos = []\n",
    "for filename in filenames:\n",
    "    Datos.append(LeerPrecios(\"precio/\"+filename))\n",
    "Datos = pd.concat(Datos)\n",
    "Datos = pd.melt(Datos,id_vars = 'Fecha')\n",
    "Datos.columns = ['Fecha','Hora','Precio']\n",
    "print(Datos)"
   ]
  },
  {
   "cell_type": "markdown",
   "metadata": {},
   "source": [
    "**2.--** Compute e imprima el número de registros con datos faltantes."
   ]
  },
  {
   "cell_type": "code",
   "execution_count": 11,
   "metadata": {},
   "outputs": [
    {
     "name": "stdout",
     "output_type": "stream",
     "text": [
      "238\n"
     ]
    }
   ],
   "source": [
    "#Punto 2 Definido en Clases\n",
    "SinNa=Datos.dropna()\n",
    "print(Datos.shape[0]-SinNa.shape[0])"
   ]
  },
  {
   "cell_type": "markdown",
   "metadata": {},
   "source": [
    "**3.--** Compute e imprima el número de registros duplicados."
   ]
  },
  {
   "cell_type": "code",
   "execution_count": 13,
   "metadata": {},
   "outputs": [
    {
     "name": "stdout",
     "output_type": "stream",
     "text": [
      "238\n"
     ]
    }
   ],
   "source": [
    "#Punto 2 Definido en Clases\n",
    "SinNa=Datos.dropna()\n",
    "print(Datos.shape[0]-SinNa.shape[0])"
   ]
  },
  {
   "cell_type": "markdown",
   "metadata": {},
   "source": [
    "**4.--** Elimine los registros con datos duplicados o datos faltantes, e imprima la cantidad de registros que quedan (registros completos)."
   ]
  },
  {
   "cell_type": "code",
   "execution_count": 14,
   "metadata": {},
   "outputs": [
    {
     "data": {
      "text/plain": [
       "199819"
      ]
     },
     "execution_count": 14,
     "metadata": {},
     "output_type": "execute_result"
    }
   ],
   "source": [
    "##Punto 4\n",
    "Datos2=Datos.copy()\n",
    "Datos2=(Datos2.drop_duplicates())\n",
    "Datos2=Datos2.dropna()\n",
    "Datos2.shape[0]"
   ]
  },
  {
   "cell_type": "markdown",
   "metadata": {},
   "source": [
    "**5.--** Compute y grafique el precio primedio diario."
   ]
  },
  {
   "cell_type": "code",
   "execution_count": 23,
   "metadata": {},
   "outputs": [
    {
     "data": {
      "text/plain": [
       "Text(0.5, 1.0, 'Precio_promedio_Diario')"
      ]
     },
     "execution_count": 23,
     "metadata": {},
     "output_type": "execute_result"
    },
    {
     "data": {
      "image/png": "[encoded data removed]",
      "text/plain": [
       "<Figure size 432x288 with 1 Axes>"
      ]
     },
     "metadata": {
      "needs_background": "light"
     },
     "output_type": "display_data"
    }
   ],
   "source": [
    "#Punto 5\n",
    "Datos3 = Datos2.copy()\n",
    "Datos3['Dia'] = pd.DatetimeIndex(Datos3['Fecha']).day\n",
    "Dia=Datos3.groupby('Dia')['Precio'].mean()\n",
    "plt.bar(Dia.index, Dia)\n",
    "plt.title('Precio_promedio_Diario')"
   ]
  },
  {
   "cell_type": "markdown",
   "metadata": {},
   "source": [
    "**6.--** Compute y grafique el precio máximo por mes."
   ]
  },
  {
   "cell_type": "code",
   "execution_count": 25,
   "metadata": {},
   "outputs": [
    {
     "data": {
      "text/plain": [
       "Text(0.5, 1.0, 'Precio_Maximo_mensual')"
      ]
     },
     "execution_count": 25,
     "metadata": {},
     "output_type": "execute_result"
    },
    {
     "data": {
      "image/png": "[encoded data removed]",
      "text/plain": [
       "<Figure size 432x288 with 1 Axes>"
      ]
     },
     "metadata": {
      "needs_background": "light"
     },
     "output_type": "display_data"
    }
   ],
   "source": [
    "Datos3['Mes'] = pd.DatetimeIndex(Datos3['Fecha']).month\n",
    "Mes=Datos3.groupby('Mes')['Precio'].max()\n",
    "plt.bar(Mes.index, Mes)\n",
    "plt.title('Precio_Maximo_mensual')"
   ]
  },
  {
   "cell_type": "markdown",
   "metadata": {},
   "source": [
    "**7.--** Compute y grafique el precio mínimo mensual."
   ]
  },
  {
   "cell_type": "code",
   "execution_count": 26,
   "metadata": {},
   "outputs": [
    {
     "data": {
      "text/plain": [
       "Text(0.5, 1.0, 'Precio_Minimo_mensual')"
      ]
     },
     "execution_count": 26,
     "metadata": {},
     "output_type": "execute_result"
    },
    {
     "data": {
      "image/png": "[encoded data removed]",
      "text/plain": [
       "<Figure size 432x288 with 1 Axes>"
      ]
     },
     "metadata": {
      "needs_background": "light"
     },
     "output_type": "display_data"
    }
   ],
   "source": [
    "Datos3['Mes'] = pd.DatetimeIndex(Datos3['Fecha']).month\n",
    "Mes=Datos3.groupby('Mes')['Precio'].min()\n",
    "plt.bar(Mes.index, Mes)\n",
    "plt.title('Precio_Minimo_mensual')"
   ]
  },
  {
   "cell_type": "markdown",
   "metadata": {},
   "source": [
    "**8.--** Haga un gráfico para comparar el precio máximo del mes (para cada mes) y el precio promedio mensual."
   ]
  },
  {
   "cell_type": "code",
   "execution_count": 38,
   "metadata": {},
   "outputs": [
    {
     "data": {
      "text/plain": [
       "Text(0.5, 1.0, 'Precio promedio mensual')"
      ]
     },
     "execution_count": 38,
     "metadata": {},
     "output_type": "execute_result"
    },
    {
     "data": {
      "image/png": "[encoded data removed]",
      "text/plain": [
       "<Figure size 432x288 with 2 Axes>"
      ]
     },
     "metadata": {
      "needs_background": "light"
     },
     "output_type": "display_data"
    }
   ],
   "source": [
    "Precio_max = Datos3.groupby('Mes')['Precio'].max()\n",
    "Precio_prom = Datos3.groupby('Mes')['Precio'].mean()\n",
    "plt.subplot(1, 2,1)\n",
    "plt.bar(Precio_max.index, Precio_max)\n",
    "plt.title(\"Precio máximo por mes\")\n",
    "plt.subplot(1, 2,2)\n",
    "plt.bar(Precio_prom.index, Precio_prom)\n",
    "plt.title(\"Precio promedio mensual\")\n"
   ]
  },
  {
   "cell_type": "markdown",
   "metadata": {},
   "source": [
    "**9.--** Haga un histograma que muestre a que horas se produce el máximo precio diario para los días laborales."
   ]
  },
  {
   "cell_type": "code",
   "execution_count": 44,
   "metadata": {},
   "outputs": [
    {
     "data": {
      "text/plain": [
       "Text(0, 0.5, 'Numero de ocurrencias')"
      ]
     },
     "execution_count": 44,
     "metadata": {},
     "output_type": "execute_result"
    },
    {
     "data": {
      "image/png": "[encoded data removed]",
      "text/plain": [
       "<Figure size 432x288 with 1 Axes>"
      ]
     },
     "metadata": {
      "needs_background": "light"
     },
     "output_type": "display_data"
    }
   ],
   "source": [
    "Datos4 = Datos2.copy()\n",
    "Datos4['Fecha'] = pd.to_datetime(Datos4['Fecha'])\n",
    "Datos4['Dia'] =  Datos4[['Fecha']].apply(lambda x: dt.datetime.strftime(x['Fecha'], '%A'), axis=1)\n",
    "Datos5 = ['Monday', 'Tuesday', 'Wednesday', 'Thursday', 'Friday']\n",
    "Datos6 = Datos4[(Datos4['Dia'] == 'Monday') | (Datos4['Dia'] == 'Tuesday')| (Datos4['Dia'] == 'Wednesday')| (Datos4['Dia'] == 'Thursday')| (Datos4['Dia'] == 'Friday')]\n",
    "Datos7= Datos6.groupby('Fecha').agg({'Precio': np.max}) \n",
    "Datos7.reset_index(inplace=True)\n",
    "Datos8 = pd.merge(Datos6, Datos7, on=['Fecha','Precio'], how='inner')\n",
    "\n",
    "Datos9 = list(map(int,Datos8['Hora'].tolist()))\n",
    "plt.hist(Datos9, bins=24)\n",
    "plt.title('Histograma : Horas en las que se produce el máximo precio \"Lunes-Viernes\"')\n",
    "plt.xlabel('Horas')\n",
    "plt.ylabel('Numero de ocurrencias')"
   ]
  },
  {
   "cell_type": "markdown",
   "metadata": {},
   "source": [
    "**10.--** Haga un histograma que muestre a que horas se produce el máximo precio diario para los días sabado."
   ]
  },
  {
   "cell_type": "code",
   "execution_count": 45,
   "metadata": {},
   "outputs": [
    {
     "data": {
      "text/plain": [
       "Text(0, 0.5, 'Numero de ocurrencias')"
      ]
     },
     "execution_count": 45,
     "metadata": {},
     "output_type": "execute_result"
    },
    {
     "data": {
      "image/png": "[encoded data removed]",
      "text/plain": [
       "<Figure size 432x288 with 1 Axes>"
      ]
     },
     "metadata": {
      "needs_background": "light"
     },
     "output_type": "display_data"
    }
   ],
   "source": [
    "Datos4 = Datos2.copy()\n",
    "Datos4['Fecha'] = pd.to_datetime(Datos4['Fecha'])\n",
    "Datos4['Dia'] =  Datos4[['Fecha']].apply(lambda x: dt.datetime.strftime(x['Fecha'], '%A'), axis=1)\n",
    "Datos5 = Datos4[(Datos4['Dia'] == 'Saturday') ]\n",
    "Datos6 = Datos5.groupby('Fecha').agg({'Precio': np.max}) \n",
    "Datos6.reset_index(inplace=True)\n",
    "Datos7 = pd.merge(Datos5, Datos6, on=['Fecha','Precio'], how='inner')\n",
    "Datos8 = list(map(int,Datos7['Hora'].tolist()))\n",
    "plt.hist(Datos8, bins=24)\n",
    "plt.title('Histograma : Horas en las que se presento el precio máximo \"Sabado\"')\n",
    "plt.xlabel('Horas')\n",
    "plt.ylabel('Numero de ocurrencias')\n",
    "\n"
   ]
  },
  {
   "cell_type": "markdown",
   "metadata": {},
   "source": [
    "**11.--** Haga un histograma que muestre a que horas se produce el máximo precio diario para los días domingo."
   ]
  },
  {
   "cell_type": "code",
   "execution_count": 46,
   "metadata": {},
   "outputs": [
    {
     "data": {
      "text/plain": [
       "Text(0, 0.5, 'Numero de ocurrencias')"
      ]
     },
     "execution_count": 46,
     "metadata": {},
     "output_type": "execute_result"
    },
    {
     "data": {
      "image/png": "[encoded data removed]",
      "text/plain": [
       "<Figure size 432x288 with 1 Axes>"
      ]
     },
     "metadata": {
      "needs_background": "light"
     },
     "output_type": "display_data"
    }
   ],
   "source": [
    "Datos4 = Datos2.copy()\n",
    "Datos4['Fecha'] = pd.to_datetime(Datos4['Fecha'])\n",
    "Datos4['Dia'] =  Datos4[['Fecha']].apply(lambda x: dt.datetime.strftime(x['Fecha'], '%A'), axis=1)\n",
    "Datos5 = Datos4[(DatosPorDia['Dia'] == 'Sunday') ]\n",
    "Datos6 = Datos5.groupby('Fecha').agg({'Precio': np.max}) \n",
    "Datos6.reset_index(inplace=True)\n",
    "Datos7 = pd.merge(Datos5, Datos6, on=['Fecha','Precio'], how='inner')\n",
    "Datos8 = list(map(int,Datos7['Hora'].tolist()))\n",
    "plt.hist(Datos8, bins=24)\n",
    "plt.title('Histograma : Horas en las que se presento el precio máximo \"Domingo\"')\n",
    "plt.xlabel('Horas')\n",
    "plt.ylabel('Numero de ocurrencias')"
   ]
  },
  {
   "cell_type": "markdown",
   "metadata": {},
   "source": [
    "**12.--** Imprima una tabla con la fecha y el valor más bajo por año del precio de bolsa."
   ]
  },
  {
   "cell_type": "code",
   "execution_count": 47,
   "metadata": {},
   "outputs": [
    {
     "name": "stdout",
     "output_type": "stream",
     "text": [
      "            Fecha  Min_Precio\n",
      "7      1995-07-28    0.000000\n",
      "10     1995-07-31    0.000000\n",
      "11     1995-08-01    0.000000\n",
      "84     1995-10-13    0.000000\n",
      "338    1995-07-29    0.000000\n",
      "339    1995-07-30    0.000000\n",
      "3800   1995-07-26    0.000000\n",
      "4140   1996-06-30    0.000000\n",
      "4149   1996-07-09    0.000000\n",
      "4152   1996-07-12    0.000000\n",
      "4162   1996-07-22    0.000000\n",
      "4163   1996-07-23    0.000000\n",
      "4164   1996-07-24    0.000000\n",
      "4876   1996-07-04    0.000000\n",
      "5981   1996-07-11    0.000000\n",
      "7749   1996-05-10    0.000000\n",
      "9651   1996-07-21    0.000000\n",
      "12566  1996-07-08    0.000000\n",
      "13668  1997-07-15   10.882310\n",
      "21695  1998-07-12   13.847330\n",
      "21696  1998-07-13   13.847330\n",
      "21697  1998-07-14   13.847330\n",
      "21698  1998-07-15   13.847330\n",
      "21699  1998-07-16   13.847330\n",
      "21701  1998-07-18   13.847330\n",
      "21702  1998-07-19   13.847330\n",
      "21703  1998-07-20   13.847330\n",
      "21704  1998-07-21   13.847330\n",
      "21705  1998-07-22   13.847330\n",
      "21706  1998-07-23   13.847330\n",
      "...           ...         ...\n",
      "32539  1999-03-28   18.359530\n",
      "37652  1999-03-31   18.359530\n",
      "41303  2000-03-25   21.531167\n",
      "41304  2000-03-26   21.531167\n",
      "41306  2000-03-28   21.531167\n",
      "44233  2000-03-27   21.531167\n",
      "45333  2000-03-29   21.531167\n",
      "45335  2000-03-31   21.531167\n",
      "49133  2001-08-20   24.822879\n",
      "56685  2002-04-29   26.777682\n",
      "57041  2002-04-20   26.777682\n",
      "57046  2002-04-25   26.777682\n",
      "57409  2002-04-23   26.777682\n",
      "65371  2003-02-14   37.013438\n",
      "74541  2004-03-29   32.252998\n",
      "83147  2005-10-04   27.581415\n",
      "92650  2006-10-17   26.714797\n",
      "100513 2007-05-03   30.173824\n",
      "109297 2008-05-26   29.199135\n",
      "118290 2009-12-22   32.892503\n",
      "118657 2009-12-24   32.892503\n",
      "126887 2010-07-12   32.024957\n",
      "135611 2011-06-06   33.291100\n",
      "146530 2012-04-29   34.988099\n",
      "153007 2013-01-09   40.415346\n",
      "162495 2014-01-11   38.941951\n",
      "171250 2015-01-06   46.791501\n",
      "179618 2016-12-09   61.100689\n",
      "188145 2017-03-28   60.312095\n",
      "197289 2018-04-06   61.457224\n",
      "\n",
      "[71 rows x 2 columns]\n"
     ]
    }
   ],
   "source": [
    "Datos4 = Datos2.copy()\n",
    "Datos4['Fecha'] = pd.to_datetime(Datos4['Fecha'])\n",
    "Datos4['Año'] =  Datos4[['Fecha']].apply(lambda x: dt.datetime.strftime(x['Fecha'], '%Y'), axis=1)\n",
    "Datos6 = Datos4.groupby('Año').agg({'Precio': np.min}) \n",
    "Datos6.reset_index(inplace=True)\n",
    "Datos6.columns = [\"Año\",\"Min_Precio\"]\n",
    "Datos7= pd.merge(Datos6, Datos4, on = ['Año'], how ='inner')\n",
    "Datos7= Datos7[(Datos7['Min_Precio'] == Datos7['Precio'])]\n",
    "print(Datos7[['Fecha','Min_Precio']].drop_duplicates())"
   ]
  },
  {
   "cell_type": "markdown",
   "metadata": {},
   "source": [
    "**13.--** Haga una gráfica en que se muestre el precio promedio diario y el precio promedio mensual."
   ]
  },
  {
   "cell_type": "code",
   "execution_count": 49,
   "metadata": {},
   "outputs": [
    {
     "data": {
      "text/plain": [
       "<matplotlib.legend.Legend at 0x1b1480f5160>"
      ]
     },
     "execution_count": 49,
     "metadata": {},
     "output_type": "execute_result"
    },
    {
     "data": {
      "text/plain": [
       "<Figure size 1440x1440 with 0 Axes>"
      ]
     },
     "metadata": {},
     "output_type": "display_data"
    },
    {
     "data": {
      "image/png": "[encoded data removed]",
      "text/plain": [
       "<Figure size 432x288 with 1 Axes>"
      ]
     },
     "metadata": {
      "needs_background": "light"
     },
     "output_type": "display_data"
    }
   ],
   "source": [
    "Datos4 = Datos2.copy()\n",
    "Datos4['Fecha'] = pd.to_datetime(Datos4['Fecha'])\n",
    "Datos4['Mes'] =  Datos4[['Fecha']].apply(lambda x: dt.datetime.strftime(x['Fecha'], '%m'), axis=1)\n",
    "Datos4['Año'] =  Datos4[['Fecha']].apply(lambda x: dt.datetime.strftime(x['Fecha'], '%Y'), axis=1)\n",
    "Datos5= Datos4.groupby(['Mes','Año']).agg({'Precio': np.mean}) \n",
    "Datos5.reset_index(inplace=True)\n",
    "Datos5.columns = ['Mes','Año','Promedio_Por_Mes']\n",
    "\n",
    "Datos6 = pd.merge(Datos5, Datos4, on = ['Mes','Año'], how ='inner')\n",
    "\n",
    "Datos7 = Datos2.copy()\n",
    "Datos7['Fecha'] = pd.to_datetime(Datos7['Fecha'])\n",
    "Datos7 = Datos7.groupby('Fecha').agg({'Precio': np.mean}) \n",
    "Datos7.reset_index(inplace=True)\n",
    "Datos7.columns = ['Fecha','Precio_Por_Dia']\n",
    "\n",
    "Datos6 = pd.merge(Datos5, Datos4, on = ['Mes','Año'], how ='inner')\n",
    "Datos6 = pd.merge(Datos6, Datos7, on = ['Fecha'], how ='inner')\n",
    "Datos8= Datos6.groupby('Fecha').agg({'Precio_Por_Dia': np.mean,'Promedio_Por_Mes': np.mean})\n",
    "\n",
    "plt.figure(figsize=(20, 20))\n",
    "fig, ax = plt.subplots()\n",
    "ax.plot((Datos8.index.tolist()), Datos8['Precio_Por_Dia'], label=\"Precio promedio por día\")\n",
    "ax.plot((Datos8.index.tolist()), Datos8['Promedio_Por_Mes'], label=\"Precio promedio por mes\")\n",
    "plt.xlabel(\"Año\")\n",
    "plt.ylabel(\"Precio\")\n",
    "ax.set_title('Precio Promedio Diario vs Precio Promedio Mes')\n",
    "ax.legend()"
   ]
  }
 ],
 "metadata": {
  "anaconda-cloud": {},
  "kernel_info": {
   "name": "python3"
  },
  "kernelspec": {
   "display_name": "Python 3",
   "language": "python",
   "name": "python3"
  },
  "language_info": {
   "codemirror_mode": {
    "name": "ipython",
    "version": 3
   },
   "file_extension": ".py",
   "mimetype": "text/x-python",
   "name": "python",
   "nbconvert_exporter": "python",
   "pygments_lexer": "ipython3",
   "version": "3.7.3"
  },
  "nteract": {
   "version": "0.7.1"
  }
 },
 "nbformat": 4,
 "nbformat_minor": 2
}
